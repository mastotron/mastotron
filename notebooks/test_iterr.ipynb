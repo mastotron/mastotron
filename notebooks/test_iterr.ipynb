{
 "cells": [
  {
   "cell_type": "code",
   "execution_count": 1,
   "metadata": {},
   "outputs": [],
   "source": [
    "import os,sys; sys.path.insert(0,'..')\n",
    "from mastotron import *"
   ]
  },
  {
   "cell_type": "code",
   "execution_count": 2,
   "metadata": {},
   "outputs": [],
   "source": [
    "tron = Mastotron()"
   ]
  },
  {
   "cell_type": "code",
   "execution_count": 7,
   "metadata": {},
   "outputs": [],
   "source": [
    "df=tron.timeline(hours_ago=24)"
   ]
  },
  {
   "cell_type": "code",
   "execution_count": 11,
   "metadata": {},
   "outputs": [
    {
     "data": {
      "text/html": [
       "<div>\n",
       "<style scoped>\n",
       "    .dataframe tbody tr th:only-of-type {\n",
       "        vertical-align: middle;\n",
       "    }\n",
       "\n",
       "    .dataframe tbody tr th {\n",
       "        vertical-align: top;\n",
       "    }\n",
       "\n",
       "    .dataframe thead th {\n",
       "        text-align: right;\n",
       "    }\n",
       "</style>\n",
       "<table border=\"1\" class=\"dataframe\">\n",
       "  <thead>\n",
       "    <tr style=\"text-align: right;\">\n",
       "      <th></th>\n",
       "      <th>url</th>\n",
       "      <th>content</th>\n",
       "      <th>score_All</th>\n",
       "    </tr>\n",
       "  </thead>\n",
       "  <tbody>\n",
       "    <tr>\n",
       "      <th>170</th>\n",
       "      <td>https://zirk.us/@AmyEmerick/109560479032629192</td>\n",
       "      <td>&lt;p&gt;Snow in a microscope&lt;/p&gt;</td>\n",
       "      <td>142.770795</td>\n",
       "    </tr>\n",
       "    <tr>\n",
       "      <th>64</th>\n",
       "      <td>https://kettner.social/@jordankettner/10955877...</td>\n",
       "      <td>&lt;p&gt;So, I'm finding out the hard way that if yo...</td>\n",
       "      <td>18.065533</td>\n",
       "    </tr>\n",
       "    <tr>\n",
       "      <th>102</th>\n",
       "      <td>https://mstdn.social/@Talyaa/109559272167356022</td>\n",
       "      <td>&lt;p&gt;Please accept this tiny goat.&lt;br&gt;&lt;a href=\"h...</td>\n",
       "      <td>15.935685</td>\n",
       "    </tr>\n",
       "    <tr>\n",
       "      <th>310</th>\n",
       "      <td>https://mastodon.art/@Mndah/109552777117558083</td>\n",
       "      <td>&lt;p&gt;Beautiful stitchwork by&lt;br&gt;Narumi Takada &lt;/...</td>\n",
       "      <td>14.635777</td>\n",
       "    </tr>\n",
       "    <tr>\n",
       "      <th>90</th>\n",
       "      <td>https://journa.host/@ebakerwhite/1095591654535...</td>\n",
       "      <td>&lt;p&gt;ByteDance used TikTok to track my location ...</td>\n",
       "      <td>13.655270</td>\n",
       "    </tr>\n",
       "    <tr>\n",
       "      <th>...</th>\n",
       "      <td>...</td>\n",
       "      <td>...</td>\n",
       "      <td>...</td>\n",
       "    </tr>\n",
       "    <tr>\n",
       "      <th>217</th>\n",
       "      <td>https://saturation.social/@shannonmattern/1095...</td>\n",
       "      <td>&lt;p&gt;*danilo!!&lt;/p&gt;</td>\n",
       "      <td>0.135267</td>\n",
       "    </tr>\n",
       "    <tr>\n",
       "      <th>383</th>\n",
       "      <td>https://mastodon.online/@SocraticEthics/109564...</td>\n",
       "      <td>&lt;p&gt;&lt;a href=\"https://t.me/liveukraine_eng/3336\"...</td>\n",
       "      <td>0.110618</td>\n",
       "    </tr>\n",
       "    <tr>\n",
       "      <th>88</th>\n",
       "      <td>https://mastodon.online/@SocraticEthics/109561...</td>\n",
       "      <td>&lt;p&gt;&lt;a href=\"https://t.me/liveukraine_eng/3304\"...</td>\n",
       "      <td>0.109063</td>\n",
       "    </tr>\n",
       "    <tr>\n",
       "      <th>274</th>\n",
       "      <td>https://mastodon.online/@SocraticEthics/109564...</td>\n",
       "      <td>&lt;p&gt;&lt;a href=\"https://t.me/United24media/2155\" r...</td>\n",
       "      <td>0.092110</td>\n",
       "    </tr>\n",
       "    <tr>\n",
       "      <th>344</th>\n",
       "      <td>https://mastodon.online/@SocraticEthics/109564...</td>\n",
       "      <td>&lt;p&gt;&lt;a href=\"https://youtube.com/watch?v=c9u44A...</td>\n",
       "      <td>0.092110</td>\n",
       "    </tr>\n",
       "  </tbody>\n",
       "</table>\n",
       "<p>384 rows × 3 columns</p>\n",
       "</div>"
      ],
      "text/plain": [
       "                                                   url  \\\n",
       "170     https://zirk.us/@AmyEmerick/109560479032629192   \n",
       "64   https://kettner.social/@jordankettner/10955877...   \n",
       "102    https://mstdn.social/@Talyaa/109559272167356022   \n",
       "310     https://mastodon.art/@Mndah/109552777117558083   \n",
       "90   https://journa.host/@ebakerwhite/1095591654535...   \n",
       "..                                                 ...   \n",
       "217  https://saturation.social/@shannonmattern/1095...   \n",
       "383  https://mastodon.online/@SocraticEthics/109564...   \n",
       "88   https://mastodon.online/@SocraticEthics/109561...   \n",
       "274  https://mastodon.online/@SocraticEthics/109564...   \n",
       "344  https://mastodon.online/@SocraticEthics/109564...   \n",
       "\n",
       "                                               content   score_All  \n",
       "170                        <p>Snow in a microscope</p>  142.770795  \n",
       "64   <p>So, I'm finding out the hard way that if yo...   18.065533  \n",
       "102  <p>Please accept this tiny goat.<br><a href=\"h...   15.935685  \n",
       "310  <p>Beautiful stitchwork by<br>Narumi Takada </...   14.635777  \n",
       "90   <p>ByteDance used TikTok to track my location ...   13.655270  \n",
       "..                                                 ...         ...  \n",
       "217                                   <p>*danilo!!</p>    0.135267  \n",
       "383  <p><a href=\"https://t.me/liveukraine_eng/3336\"...    0.110618  \n",
       "88   <p><a href=\"https://t.me/liveukraine_eng/3304\"...    0.109063  \n",
       "274  <p><a href=\"https://t.me/United24media/2155\" r...    0.092110  \n",
       "344  <p><a href=\"https://youtube.com/watch?v=c9u44A...    0.092110  \n",
       "\n",
       "[384 rows x 3 columns]"
      ]
     },
     "execution_count": 11,
     "metadata": {},
     "output_type": "execute_result"
    }
   ],
   "source": [
    "df[['url', 'content', 'score_All']]"
   ]
  }
 ],
 "metadata": {
  "kernelspec": {
   "display_name": "venv",
   "language": "python",
   "name": "python3"
  },
  "language_info": {
   "codemirror_mode": {
    "name": "ipython",
    "version": 3
   },
   "file_extension": ".py",
   "mimetype": "text/x-python",
   "name": "python",
   "nbconvert_exporter": "python",
   "pygments_lexer": "ipython3",
   "version": "3.10.7"
  },
  "orig_nbformat": 4,
  "vscode": {
   "interpreter": {
    "hash": "3fd48361b044f528a2157a6d50412eb847c334dc1d3abbb213ba1b507b3cd253"
   }
  }
 },
 "nbformat": 4,
 "nbformat_minor": 2
}
