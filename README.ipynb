{
 "cells": [
  {
   "cell_type": "code",
   "execution_count": 2,
   "metadata": {},
   "outputs": [],
   "source": [
    "# load the class\n",
    "from mastotron import Mastotron, Post\n",
    "\n",
    "# instantiate; will guide through auth\n",
    "tron = Mastotron()"
   ]
  },
  {
   "cell_type": "code",
   "execution_count": 4,
   "metadata": {},
   "outputs": [
    {
     "data": {
      "text/html": [
       "\n",
       "                <div class=\"post origpost\" style=\"border:1px solid orange;padding:0 1em;\">\n",
       "                    <p>\n",
       "                        <a href=\"https://mstdn.science/@RebeccaRHelm\">RebeccaRHelm@mstdn.science</a> (1,157 👥) <a href=\"https://mstdn.science/@RebeccaRHelm/109566221656683705\">wrote</a> on 12/24/2022 at 02:11:04:\n",
       "                    </p>\n",
       "                    \n",
       "                    <p>EXTREMELY RARE footage of the elusive box jellyfish Chirodectes. Larger than a soccer ball, this jelly is a true ocean mystery, and this video is one of the only in existence, filmed off the coast of Papua New Guinea in 2021.<br>📽️Scuba Ventures Kavieng bit.ly/3FE29tL</p>\n",
       "\n",
       "                    <center><a href=\"https://cdn.masto.host/zirkus/cache/media_attachments/files/109/566/221/923/419/468/small/f0a9cc7c3910417e.png\"><img src=\"https://cdn.masto.host/zirkus/cache/media_attachments/files/109/566/221/923/419/468/small/f0a9cc7c3910417e.png\" /></a></center>\n",
       "                    \n",
       "                    <p>\n",
       "                        10 🗣\n",
       "                        &nbsp; | &nbsp; \n",
       "                        71 🔁\n",
       "                        &nbsp; | &nbsp;\n",
       "                        4 💙\n",
       "                        &nbsp; | &nbsp;\n",
       "                        Post ID: 109566222383974657\n",
       "                    </p>\n",
       "\n",
       "                    \n",
       "                </div>\n",
       "            "
      ],
      "text/plain": [
       "Post(id=109566222383974657)"
      ]
     },
     "execution_count": 4,
     "metadata": {},
     "output_type": "execute_result"
    }
   ],
   "source": [
    "# Get a post by id on your server\n",
    "post = Post(id=109566222383974657)\n",
    "post"
   ]
  },
  {
   "cell_type": "code",
   "execution_count": 5,
   "metadata": {},
   "outputs": [
    {
     "data": {
      "text/html": [
       "\n",
       "                <div class=\"post reblog\" style=\"border:1px solid blue; padding: 0 1em;\">\n",
       "                    <p>\n",
       "                        <a href=\"https://zirk.us/@accommodatingly\">accommodatingly</a> (287 👥) reposted at 12/23/2022 at 23:51:23:\n",
       "                    </p>\n",
       "                    \n",
       "                    \n",
       "                <div class=\"post origpost\" style=\"border:1px solid orange;padding:0 1em;\">\n",
       "                    <p>\n",
       "                        <a href=\"https://strangeobject.space/@esther\">esther@strangeobject.space</a> (1,367 👥) <a href=\"https://strangeobject.space/@esther/109563512148655648\">wrote</a> on 12/23/2022 at 14:42:00:\n",
       "                    </p>\n",
       "                    \n",
       "                    <p>Thinking of all the queer folks who have to spend the holidays with abusive, unaccepting, unsupportive, or “well meaning” but careless relatives. It’s an especially dark time for many who can’t escape those situations because they’re minors, financially dependent, or under emotional pressure to attend.</p><p>If you’re out there, struggling, and need a friendly voice, feel free to drop a DM. I’m happy to be your trans goth aunt for a bit.</p><p><a href=\"https://strangeobject.space/tags/queer\" class=\"mention hashtag\" rel=\"nofollow noopener noreferrer\" target=\"_blank\">#<span>queer</span></a> <a href=\"https://strangeobject.space/tags/trans\" class=\"mention hashtag\" rel=\"nofollow noopener noreferrer\" target=\"_blank\">#<span>trans</span></a> <a href=\"https://strangeobject.space/tags/holidays\" class=\"mention hashtag\" rel=\"nofollow noopener noreferrer\" target=\"_blank\">#<span>holidays</span></a> <a href=\"https://strangeobject.space/tags/support\" class=\"mention hashtag\" rel=\"nofollow noopener noreferrer\" target=\"_blank\">#<span>support</span></a></p>\n",
       "\n",
       "                    <center></center>\n",
       "                    \n",
       "                    <p>\n",
       "                        12 🗣\n",
       "                        &nbsp; | &nbsp; \n",
       "                        60 🔁\n",
       "                        &nbsp; | &nbsp;\n",
       "                        4 💙\n",
       "                        &nbsp; | &nbsp;\n",
       "                        Post ID: 109563512620764058\n",
       "                    </p>\n",
       "\n",
       "                    \n",
       "                </div>\n",
       "            \n",
       "                    <br/>\n",
       "\n",
       "                </div>\n",
       "            "
      ],
      "text/plain": [
       "Post(id=109565672404848243)"
      ]
     },
     "execution_count": 5,
     "metadata": {},
     "output_type": "execute_result"
    }
   ],
   "source": [
    "# These will show reposts\n",
    "post = Post(id=109565672404848243)\n",
    "post"
   ]
  },
  {
   "cell_type": "code",
   "execution_count": 6,
   "metadata": {},
   "outputs": [
    {
     "data": {
      "text/html": [
       "\n",
       "                <div class=\"post origpost\" style=\"border:1px solid orange;padding:0 1em;\">\n",
       "                    <p>\n",
       "                        <a href=\"https://zirk.us/@heuser\">heuser</a> (235 👥) <a href=\"https://zirk.us/@heuser/109564529870067074\">wrote</a> on 12/23/2022 at 19:00:50:\n",
       "                    </p>\n",
       "                    \n",
       "                    <p>Unexpected challenge: there are very few likes on tweets in my mastodon timeline. (step that up pls everyone thx.) So it&#39;s hard to sort the tweets using that metric.</p>\n",
       "\n",
       "                    <center></center>\n",
       "                    \n",
       "                    <p>\n",
       "                        1 🗣\n",
       "                        &nbsp; | &nbsp; \n",
       "                        0 🔁\n",
       "                        &nbsp; | &nbsp;\n",
       "                        2 💙\n",
       "                        &nbsp; | &nbsp;\n",
       "                        Post ID: 109564529870067074\n",
       "                    </p>\n",
       "\n",
       "                    <p><b><i>... in reply to:</i></b></p> \n",
       "                <div class=\"post origpost\" style=\"border:1px solid orange;padding:0 1em;\">\n",
       "                    <p>\n",
       "                        <a href=\"https://zirk.us/@heuser\">heuser</a> (235 👥) <a href=\"https://zirk.us/@heuser/109564459673004810\">wrote</a> on 12/23/2022 at 18:42:58:\n",
       "                    </p>\n",
       "                    \n",
       "                    <p>Experimenting with making an &quot;algorithm&quot; to sort a user&#39;s feed using python and mastodon.py. This tweet was sent from a jupyter notebook.</p>\n",
       "\n",
       "                    <center></center>\n",
       "                    \n",
       "                    <p>\n",
       "                        1 🗣\n",
       "                        &nbsp; | &nbsp; \n",
       "                        1 🔁\n",
       "                        &nbsp; | &nbsp;\n",
       "                        3 💙\n",
       "                        &nbsp; | &nbsp;\n",
       "                        Post ID: 109564459673004810\n",
       "                    </p>\n",
       "\n",
       "                    \n",
       "                </div>\n",
       "             <br/> \n",
       "                </div>\n",
       "            "
      ],
      "text/plain": [
       "Post(id=109564529870067074)"
      ]
     },
     "execution_count": 6,
     "metadata": {},
     "output_type": "execute_result"
    }
   ],
   "source": [
    "# And replies\n",
    "post = Post(id=109564529870067074)\n",
    "post"
   ]
  },
  {
   "cell_type": "code",
   "execution_count": 7,
   "metadata": {},
   "outputs": [
    {
     "data": {
      "text/plain": [
       "{'Simple': 1.7320508075688774,\n",
       " 'ExtendedSimple': 1.8171205928321397,\n",
       " 'SimpleWeighted': 0.11274690420042434,\n",
       " 'ExtendedSimpleWeighted': 0.11828447555082267,\n",
       " 'All': 0.4526308886948211}"
      ]
     },
     "execution_count": 7,
     "metadata": {},
     "output_type": "execute_result"
    }
   ],
   "source": [
    "# Get scores for a post \n",
    "# (adapted from https://github.com/hodgesmr/mastodon_digest)\n",
    "post.scores()"
   ]
  },
  {
   "cell_type": "code",
   "execution_count": 8,
   "metadata": {},
   "outputs": [
    {
     "data": {
      "text/html": [
       "\n",
       "                <div class=\"post reblog\" style=\"border:1px solid blue; padding: 0 1em;\">\n",
       "                    <p>\n",
       "                        <a href=\"https://zirk.us/@ecourtem\">ecourtem</a> (346 👥) reposted at 12/23/2022 at 14:53:21:\n",
       "                    </p>\n",
       "                    \n",
       "                    \n",
       "                <div class=\"post origpost\" style=\"border:1px solid orange;padding:0 1em;\">\n",
       "                    <p>\n",
       "                        <a href=\"https://mstdn.social/@lolennui\">lolennui@mstdn.social</a> (5,061 👥) <a href=\"https://mstdn.social/@lolennui/109560660969613944\">wrote</a> on 12/23/2022 at 02:36:55:\n",
       "                    </p>\n",
       "                    \n",
       "                    <p>Every gen X person read a terrifying Stephen King book when they were 9</p>\n",
       "\n",
       "                    <center></center>\n",
       "                    \n",
       "                    <p>\n",
       "                        55 🗣\n",
       "                        &nbsp; | &nbsp; \n",
       "                        33 🔁\n",
       "                        &nbsp; | &nbsp;\n",
       "                        1 💙\n",
       "                        &nbsp; | &nbsp;\n",
       "                        Post ID: 109560661039545409\n",
       "                    </p>\n",
       "\n",
       "                    \n",
       "                </div>\n",
       "            \n",
       "                    <br/>\n",
       "\n",
       "                </div>\n",
       "            "
      ],
      "text/plain": [
       "Post(id=109563556725970365)"
      ]
     },
     "execution_count": 8,
     "metadata": {},
     "output_type": "execute_result"
    }
   ],
   "source": [
    "# Get top posts by score\n",
    "top_posts = sorted(\n",
    "    tron.latest_posts(max_posts=100),\n",
    "    key=lambda post: -post.score()\n",
    ")\n",
    "\n",
    "# top post by engagement\n",
    "top_posts[0]"
   ]
  }
 ],
 "metadata": {
  "kernelspec": {
   "display_name": "venv",
   "language": "python",
   "name": "python3"
  },
  "language_info": {
   "codemirror_mode": {
    "name": "ipython",
    "version": 3
   },
   "file_extension": ".py",
   "mimetype": "text/x-python",
   "name": "python",
   "nbconvert_exporter": "python",
   "pygments_lexer": "ipython3",
   "version": "3.10.7"
  },
  "orig_nbformat": 4,
  "vscode": {
   "interpreter": {
    "hash": "3fd48361b044f528a2157a6d50412eb847c334dc1d3abbb213ba1b507b3cd253"
   }
  }
 },
 "nbformat": 4,
 "nbformat_minor": 2
}
